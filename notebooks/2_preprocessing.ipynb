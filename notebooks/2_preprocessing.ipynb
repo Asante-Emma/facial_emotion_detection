{
 "cells": [
  {
   "cell_type": "code",
   "execution_count": 5,
   "metadata": {},
   "outputs": [],
   "source": [
    "import cv2\n",
    "import numpy as np\n",
    "import numpy as np\n",
    "import matplotlib.pyplot as plt\n",
    "from collections import Counter\n",
    "import os\n",
    "from sklearn.model_selection import train_test_split"
   ]
  },
  {
   "cell_type": "markdown",
   "metadata": {},
   "source": [
    "### Preprocess images"
   ]
  },
  {
   "cell_type": "code",
   "execution_count": 2,
   "metadata": {},
   "outputs": [
    {
     "name": "stdout",
     "output_type": "stream",
     "text": [
      "Train images shape: (28709, 48, 48)\n",
      "Train labels shape: (28709,)\n",
      "Test images shape: (7178, 48, 48)\n",
      "Test labels shape: (7178,)\n"
     ]
    }
   ],
   "source": [
    "# Define a mapping from emotion names to numeric labels\n",
    "emotion_map = {\n",
    "    'angry': 0,\n",
    "    'disgust': 1,\n",
    "    'fear': 2,\n",
    "    'happy': 3,\n",
    "    'sad': 4,\n",
    "    'surprise': 5,\n",
    "    'neutral': 6\n",
    "}\n",
    "\n",
    "# Preprocess image function\n",
    "def preprocess_image(image_path):\n",
    "    try:\n",
    "        image = cv2.imread(image_path, cv2.IMREAD_GRAYSCALE)\n",
    "        if image is None:\n",
    "            raise ValueError(f\"Image at path {image_path} could not be loaded.\")\n",
    "        image = cv2.resize(image, (48, 48))\n",
    "        image = image.astype('float32') / 255\n",
    "        return image\n",
    "    except Exception as e:\n",
    "        print(f\"Error processing image {image_path}: {e}\")\n",
    "        return None\n",
    "\n",
    "# Preprocess images in directory\n",
    "def preprocess_data(data_dir):\n",
    "    images = []\n",
    "    labels = []\n",
    "    try:\n",
    "        for label_folder in os.listdir(data_dir):\n",
    "            folder_path = os.path.join(data_dir, label_folder)\n",
    "            if not os.path.isdir(folder_path):\n",
    "                print(f\"Skipping non-directory {folder_path}\")\n",
    "                continue\n",
    "            for img_file in os.listdir(folder_path):\n",
    "                image_path = os.path.join(folder_path, img_file)\n",
    "                image = preprocess_image(image_path)\n",
    "                if image is not None:\n",
    "                    if label_folder in emotion_map:\n",
    "                        images.append(image)\n",
    "                        labels.append(emotion_map[label_folder])\n",
    "                    else:\n",
    "                        print(f\"Unknown label folder: {label_folder}\")\n",
    "    except Exception as e:\n",
    "        print(f\"Error processing data in {data_dir}: {e}\")\n",
    "    return np.array(images), np.array(labels)\n",
    "\n",
    "# Preprocess training and testing data\n",
    "train_images, train_labels = preprocess_data('../data/raw/train')\n",
    "test_images, test_labels = preprocess_data('../data/raw/test')\n",
    "\n",
    "# Print shapes for verification\n",
    "print(f\"Train images shape: {train_images.shape}\")\n",
    "print(f\"Train labels shape: {train_labels.shape}\")\n",
    "print(f\"Test images shape: {test_images.shape}\")\n",
    "print(f\"Test labels shape: {test_labels.shape}\")"
   ]
  },
  {
   "cell_type": "code",
   "execution_count": 7,
   "metadata": {},
   "outputs": [
    {
     "data": {
      "image/png": "[encoded data removed]",
      "text/plain": [
       "<Figure size 640x480 with 1 Axes>"
      ]
     },
     "metadata": {},
     "output_type": "display_data"
    }
   ],
   "source": [
    "# Count the number of samples per class\n",
    "class_counts = Counter(train_labels)\n",
    "\n",
    "# Plot class distribution\n",
    "plt.bar(class_counts.keys(), class_counts.values())\n",
    "plt.xlabel('Emotion Class')\n",
    "plt.ylabel('Number of Samples')\n",
    "plt.title('Class Distribution in Training Data')\n",
    "#plt.savefig('../plots/class_distribution.png')\n",
    "plt.show()"
   ]
  },
  {
   "cell_type": "code",
   "execution_count": 4,
   "metadata": {},
   "outputs": [],
   "source": [
    "# Split train data into training and validation sets\n",
    "train_images, val_images, train_labels, val_labels = train_test_split(train_images,\n",
    "                                                                      train_labels,\n",
    "                                                                      test_size=0.1,\n",
    "                                                                      random_state=42)\n",
    "\n",
    "# Save the processed data\n",
    "np.save('../data/processed/train_images.npy', train_images)\n",
    "np.save('../data/processed/train_labels.npy', train_labels)\n",
    "np.save('../data/processed/val_images.npy', val_images)\n",
    "np.save('../data/processed/val_labels.npy', val_labels)\n",
    "np.save('../data/processed/test_images.npy', test_images)\n",
    "np.save('../data/processed/test_labels.npy', test_labels)"
   ]
  },
  {
   "cell_type": "code",
   "execution_count": null,
   "metadata": {},
   "outputs": [],
   "source": []
  }
 ],
 "metadata": {
  "kernelspec": {
   "display_name": "deep_learning",
   "language": "python",
   "name": "python3"
  },
  "language_info": {
   "codemirror_mode": {
    "name": "ipython",
    "version": 3
   },
   "file_extension": ".py",
   "mimetype": "text/x-python",
   "name": "python",
   "nbconvert_exporter": "python",
   "pygments_lexer": "ipython3",
   "version": "3.8.19"
  }
 },
 "nbformat": 4,
 "nbformat_minor": 2
}
